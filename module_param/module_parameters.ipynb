{
 "cells": [
  {
   "cell_type": "markdown",
   "id": "1190781b-45d5-41a0-aa7b-10127441a702",
   "metadata": {},
   "source": [
    "# Linux Kernel Module Parameters\n",
    "\n",
    "The Linux kernel provides a simple framework, enabling drivers to declare parameters that the user can specify on either boot or module load and then have these parameters exposed in your driver as global variables.These module parameters also show up in `sysfs` system."
   ]
  },
  {
   "cell_type": "markdown",
   "id": "72fd31eb-c595-48a2-a46c-add8a013c07d",
   "metadata": {},
   "source": [
    "## 1. Loading a module with parameters\n",
    "We're going the write a demo kernel module, trying to pass parameters to the module during loading.\n",
    "```sh\n",
    "insmod ./hello-parameters.ko irq=20 name=mydev debug=1\n",
    "```\n",
    "We start with the following 'Hello, World!' source file:"
   ]
  },
  {
   "cell_type": "code",
   "execution_count": 1,
   "id": "451fd586-79d2-44f0-a4c3-110425f0c117",
   "metadata": {
    "tags": []
   },
   "outputs": [
    {
     "name": "stdout",
     "output_type": "stream",
     "text": [
      "Overwriting hello-parameters.c\n"
     ]
    }
   ],
   "source": [
    "%%writefile hello-parameters.c\n",
    "#include <linux/init.h>\n",
    "#include <linux/module.h>\n",
    "#include <linux/kernel.h>\n",
    "#include <linux/moduleparam.h>\n",
    "\n",
    "MODULE_LICENSE(\"GPL\");\n",
    "MODULE_AUTHOR(\"Clymber Loong\");\n",
    "MODULE_DESCRIPTION(\"A Hello, World Module\");\n",
    "\n",
    "static int   irq   = 10;\n",
    "static int   debug = 0;\n",
    "static char *name  = \"Hello World\"; \n",
    "\n",
    "static int hello_init(void)\n",
    "{\n",
    "    printk(KERN_ALERT \"Hello, World! name=%s, irq=%d, debug=%d\\n\", name, irq, debug);\n",
    "    return 0;\n",
    "}\n",
    "\n",
    "static void hello_exit(void)\n",
    "{\n",
    "    printk(KERN_ALERT \"Bye Bye, World!\\n\");\n",
    "}\n",
    "\n",
    "module_init(hello_init);\n",
    "module_exit(hello_exit);"
   ]
  },
  {
   "cell_type": "markdown",
   "id": "485f101b-5c22-41b5-b956-ffbfe4e69b88",
   "metadata": {},
   "source": [
    "### 1.1 Defining parameters\n",
    "\n",
    "Defining a module parameter is done via the macro `module_param()`:\n",
    "```c\n",
    "// @name: both the parameter exposed to the user and the variable holding\n",
    "//        the parameter inside your module;\n",
    "// @type: holds the parameter’s data type;\n",
    "// @perm: specifies the permissions of the corresponding file in sysfs.\n",
    "module_param(name, type, perm);\n",
    "```\n",
    "The `type` argument holds the parameter’s data type; it is one of `byte`, `short`, `ushort`, `int`, `uint`, `long`, `ulong`, `charp`, `bool`, or `invbool`.  \n",
    "These types are, respectively, a byte, a short integer, an unsigned short integer, an integer, an unsigned integer, a long integer, an unsigned long integer, a pointer to a char, a Boolean, and a Boolean whose value is inverted from what the user specifies.The byte type is stored in a single char and the Boolean types are stored in variables of type int."
   ]
  },
  {
   "cell_type": "code",
   "execution_count": 2,
   "id": "62aaf386-e526-451d-b685-6b522d49f82f",
   "metadata": {
    "tags": []
   },
   "outputs": [
    {
     "name": "stdout",
     "output_type": "stream",
     "text": [
      "Appending to hello-parameters.c\n"
     ]
    }
   ],
   "source": [
    "%%writefile -a hello-parameters.c\n",
    "module_param(irq, int, 0660);\n",
    "module_param(debug, int, 0660);\n",
    "module_param(name, charp, 0660);"
   ]
  },
  {
   "cell_type": "markdown",
   "id": "c21bb0da-7c89-4cbc-bbe7-ff861442c567",
   "metadata": {},
   "source": [
    "### 1.2 Documenting the parameters (Optional)\n",
    "\n",
    "We can document your parameters by using `MODULE_PARM_DESC()`:"
   ]
  },
  {
   "cell_type": "code",
   "execution_count": 3,
   "id": "0a3607be-68f4-4c4b-9cf4-d334b3e51cfb",
   "metadata": {},
   "outputs": [
    {
     "name": "stdout",
     "output_type": "stream",
     "text": [
      "Appending to hello-parameters.c\n"
     ]
    }
   ],
   "source": [
    "%%writefile -a hello-parameters.c\n",
    "\n",
    "MODULE_PARM_DESC(irq, \"The interrupt line number.\");\n",
    "MODULE_PARM_DESC(debug, \"Debug mode, 1 is on, 0 is off.\");\n",
    "MODULE_PARM_DESC(name, \"Your name\");"
   ]
  },
  {
   "cell_type": "markdown",
   "id": "2ab99905-7f7a-42f9-a8c6-d2bdf1cf591e",
   "metadata": {},
   "source": [
    "### 1.2 Passing parameters during loading module"
   ]
  },
  {
   "cell_type": "code",
   "execution_count": 4,
   "id": "08d1e197-2e0f-4a2a-a4d2-0938e1d7821f",
   "metadata": {
    "tags": []
   },
   "outputs": [
    {
     "name": "stdout",
     "output_type": "stream",
     "text": [
      "make -C /lib/modules/6.1.28/build M=/home/clymber/Studio/kerdevel/module_param modules\n",
      "make[1]: Entering directory '/home/clymber/Studio/@linux-6.1.28'\n",
      "  CC [M]  /home/clymber/Studio/kerdevel/module_param/hello-parameters.o\n",
      "  CC [M]  /home/clymber/Studio/kerdevel/module_param/hello-rwv-param.o\n",
      "  LD [M]  /home/clymber/Studio/kerdevel/module_param/module_param.o\n",
      "  MODPOST /home/clymber/Studio/kerdevel/module_param/Module.symvers\n",
      "  CC [M]  /home/clymber/Studio/kerdevel/module_param/module_param.mod.o\n",
      "  LD [M]  /home/clymber/Studio/kerdevel/module_param/module_param.ko\n",
      "make[1]: Leaving directory '/home/clymber/Studio/@linux-6.1.28'\n"
     ]
    }
   ],
   "source": [
    "! make"
   ]
  },
  {
   "cell_type": "markdown",
   "id": "7ede3283-aa77-4ea5-95f5-545ee3e2a058",
   "metadata": {},
   "source": [
    "### 1.3 List the parameters that the module supports\n",
    "\n",
    "We can list the information about the module we built with command `modinfo`, including descriptions of its parameters:"
   ]
  },
  {
   "cell_type": "code",
   "execution_count": 5,
   "id": "b93b7fa4-989e-43a9-a744-8a6e839b065e",
   "metadata": {},
   "outputs": [
    {
     "name": "stdout",
     "output_type": "stream",
     "text": [
      "filename:       /home/clymber/Studio/kerdevel/module_param/module_param.ko\n",
      "description:    A Hello, World Module\n",
      "author:         Clymber Loong\n",
      "license:        GPL\n",
      "srcversion:     77F5712DDBB750D3644A994\n",
      "depends:        \n",
      "retpoline:      Y\n",
      "name:           module_param\n",
      "vermagic:       6.1.28 SMP preempt mod_unload modversions \n",
      "parm:           irq:The interrupt line number. (int)\n",
      "parm:           debug:Debug mode, 1 is on, 0 is off. (int)\n",
      "parm:           name:Your name (charp)\n"
     ]
    }
   ],
   "source": [
    "! modinfo module_param.ko"
   ]
  },
  {
   "cell_type": "code",
   "execution_count": 6,
   "id": "991711ab-4c1b-4124-9608-f483ebb16f9e",
   "metadata": {
    "tags": []
   },
   "outputs": [
    {
     "name": "stdout",
     "output_type": "stream",
     "text": [
      "[ 8797.163990] Hello, World! name=Clymber, irq=100, debug=1\n"
     ]
    }
   ],
   "source": [
    "%%script bash\n",
    "sudo dmesg -C\n",
    "sudo insmod ./*.ko name='Clymber' irq=100 debug=1\n",
    "sudo dmesg -c"
   ]
  },
  {
   "cell_type": "markdown",
   "id": "bf332aa2-c4fe-4075-aaa3-d3767f318793",
   "metadata": {},
   "source": [
    "### 1.4 Verify the result\n",
    "\n",
    "1. `/proc/modules` shows what kernel modules (drivers) are currently loaded into memory.\n",
    "2. These module parameters also show up in `sysfs` system."
   ]
  },
  {
   "cell_type": "code",
   "execution_count": 7,
   "id": "458c8bd2-5064-4979-b5a5-e6998d9a5ce7",
   "metadata": {
    "tags": []
   },
   "outputs": [],
   "source": [
    "! grep 'hello' /proc/modules"
   ]
  },
  {
   "cell_type": "code",
   "execution_count": 8,
   "id": "11d64f25-bd48-4004-857d-8add9e6ffc1d",
   "metadata": {
    "tags": []
   },
   "outputs": [
    {
     "name": "stdout",
     "output_type": "stream",
     "text": [
      "total 0\n",
      "-rw-rw---- 1 root root 4096 May 20 15:58 debug\n",
      "-rw-rw---- 1 root root 4096 May 20 15:58 irq\n",
      "-rw-rw---- 1 root root 4096 May 20 15:58 irqtype\n",
      "-rw-rw---- 1 root root 4096 May 20 15:58 name\n"
     ]
    }
   ],
   "source": [
    "! ls -l /sys/module/module_param/parameters/"
   ]
  },
  {
   "cell_type": "markdown",
   "id": "955902cc-9eaa-4bbc-a7c5-6c47cde77eca",
   "metadata": {},
   "source": [
    "### 1.5 Cleaning up"
   ]
  },
  {
   "cell_type": "code",
   "execution_count": 9,
   "id": "582ac54a-922f-4e4a-b850-50f7efe0778e",
   "metadata": {
    "tags": []
   },
   "outputs": [
    {
     "name": "stdout",
     "output_type": "stream",
     "text": [
      "[ 8797.441458] Bye Bye, World!\n",
      "make -C /lib/modules/6.1.28/build M=/home/clymber/Studio/kerdevel/module_param clean\n",
      "make[1]: Entering directory '/home/clymber/Studio/@linux-6.1.28'\n",
      "  CLEAN   /home/clymber/Studio/kerdevel/module_param/Module.symvers\n",
      "make[1]: Leaving directory '/home/clymber/Studio/@linux-6.1.28'\n"
     ]
    }
   ],
   "source": [
    "%%script bash\n",
    "sudo rmmod ./*.ko\n",
    "sudo dmesg -c\n",
    "make clean"
   ]
  },
  {
   "cell_type": "markdown",
   "id": "5286ea12-5618-4b6f-b30f-7f98a90a3a1b",
   "metadata": {},
   "source": [
    "## 2. Reading, changing and verifying parameters"
   ]
  },
  {
   "cell_type": "markdown",
   "id": "6a82c7d6-1be0-4e0a-9839-941b883371e5",
   "metadata": {},
   "source": [
    "The file in `/sys/module/<module_name>/parameters` is used to read/write the parameter value while the module is loaded.  \n",
    "\n",
    "Using the file in `sysfs` , if we have permission, we can set any value we want. If for example the irq can only be in the range 1-32 , there is no way to validate it because the user access the variable directly. To solve this problem we can implement an interface for setting an getting parameter values – `kernel_param_ops`:\n",
    "```c\n",
    "struct kernel_param_ops {\n",
    "\t/* How the ops should behave */\n",
    "\tunsigned int flags;\n",
    "\t/* Returns 0, or -errno.  arg is in kp->arg. */\n",
    "\tint (*set)(const char *val, const struct kernel_param *kp);\n",
    "\t/* Returns length written or -errno.  Buffer is 4k (ie. be short!) */\n",
    "\tint (*get)(char *buffer, const struct kernel_param *kp);\n",
    "\t/* Optional function to free kp->arg when module unloaded. */\n",
    "\tvoid (*free)(void *arg);\n",
    "};\n",
    "```"
   ]
  },
  {
   "cell_type": "markdown",
   "id": "8522dbb9-0798-496e-a33f-b75810a00aed",
   "metadata": {},
   "source": [
    "### 2.1 Defining `get` and `set` handlers\n",
    "\n",
    "We want a parameter for interrupt mode to be one from level, edge, polling. In the mean time, we want to save it as a number (1-level, 2-edge, 3-polling)."
   ]
  },
  {
   "cell_type": "code",
   "execution_count": 10,
   "id": "24d954ec-391e-45f4-90ab-9bb4026ea617",
   "metadata": {
    "tags": []
   },
   "outputs": [
    {
     "name": "stdout",
     "output_type": "stream",
     "text": [
      "Overwriting hello-rwv-param.c\n"
     ]
    }
   ],
   "source": [
    "%%writefile hello-rwv-param.c\n",
    "#include <linux/module.h>\n",
    "#include <linux/kernel.h>\n",
    "#include <linux/moduleparam.h>\n",
    "\n",
    "enum irq_type {\n",
    "    IRQ_TYPE_LEVEL,\n",
    "    IRQ_TYPE_EDGE,\n",
    "    IRQ_TYPE_POLLING\n",
    "};\n",
    "\n",
    "static int irq_type = IRQ_TYPE_LEVEL; // default"
   ]
  },
  {
   "cell_type": "markdown",
   "id": "d6fe899c-ea9b-48f2-b537-6f31b6b34665",
   "metadata": {},
   "source": [
    "We need to define the `set` function to convert from string to int and the `get` function to convert from int to string."
   ]
  },
  {
   "cell_type": "code",
   "execution_count": 11,
   "id": "c0e23481-87c2-4066-891c-3a0a56c320fa",
   "metadata": {
    "tags": []
   },
   "outputs": [
    {
     "name": "stdout",
     "output_type": "stream",
     "text": [
      "Appending to hello-rwv-param.c\n"
     ]
    }
   ],
   "source": [
    "%%writefile -a hello-rwv-param.c\n",
    "\n",
    "#define TYPE_BUFF_MAX 16\n",
    "static int irq_type_write(const char *val, const struct kernel_param *kp)\n",
    "{\n",
    "    char type[TYPE_BUFF_MAX];\n",
    "    char *s;\n",
    "\n",
    "    strncpy(type, val, TYPE_BUFF_MAX);\n",
    "    type[TYPE_BUFF_MAX-1] = '\\0';\n",
    "    s = strstrip(type);\n",
    "\n",
    "    if (strcmp(s, \"level\") == 0) {\n",
    "        irq_type = IRQ_TYPE_LEVEL;\n",
    "    }\n",
    "    else if (strcmp(s, \"edge\") == 0) {\n",
    "        irq_type = IRQ_TYPE_EDGE;\n",
    "    }\n",
    "    else if (strcmp(s, \"polling\") == 0) {\n",
    "        irq_type = IRQ_TYPE_POLLING;\n",
    "    }\n",
    "    else {\n",
    "        return -EINVAL;\n",
    "    }\n",
    "    return 0;\n",
    "}\n",
    "\n",
    "static int irq_type_read(char * buffer, const struct kernel_param *kp)\n",
    "{\n",
    "    switch (irq_type) {\n",
    "    case IRQ_TYPE_LEVEL:\n",
    "        strcpy(buffer, \"Level\");\n",
    "        break;\n",
    "\n",
    "    case IRQ_TYPE_EDGE:\n",
    "        strcpy(buffer, \"Edge\");\n",
    "        break;\n",
    "\n",
    "    case IRQ_TYPE_POLLING:\n",
    "        strcpy(buffer, \"Polling\");\n",
    "        break;\n",
    "\n",
    "    default:\n",
    "        strcpy(buffer, \"error\");\n",
    "        break;\n",
    "    }\n",
    "\n",
    "    return strlen(buffer);\n",
    "}\n",
    "\n",
    "static const struct kernel_param_ops irqtype_ops = {\n",
    "    .set = irq_type_write,\n",
    "    .get = irq_type_read\n",
    "};"
   ]
  },
  {
   "cell_type": "markdown",
   "id": "6e6be715-587a-482c-af16-633c54ab1916",
   "metadata": {},
   "source": [
    "### 2.2 Defining parameters with the handlers registering"
   ]
  },
  {
   "cell_type": "code",
   "execution_count": 12,
   "id": "6513da31-d80a-4b3c-9ef6-93e10f4b7502",
   "metadata": {
    "tags": []
   },
   "outputs": [
    {
     "name": "stdout",
     "output_type": "stream",
     "text": [
      "Appending to hello-rwv-param.c\n"
     ]
    }
   ],
   "source": [
    "%%writefile -a hello-rwv-param.c\n",
    "\n",
    "module_param_cb(irqtype, &irqtype_ops, NULL, 0660);"
   ]
  },
  {
   "cell_type": "code",
   "execution_count": 13,
   "id": "613dbad3-10e4-4b41-a6e1-e654d922c413",
   "metadata": {
    "tags": []
   },
   "outputs": [
    {
     "name": "stdout",
     "output_type": "stream",
     "text": [
      "make -C /lib/modules/6.1.28/build M=/home/clymber/Studio/kerdevel/module_param modules\n",
      "make[1]: Entering directory '/home/clymber/Studio/@linux-6.1.28'\n",
      "  CC [M]  /home/clymber/Studio/kerdevel/module_param/hello-parameters.o\n",
      "  CC [M]  /home/clymber/Studio/kerdevel/module_param/hello-rwv-param.o\n",
      "  LD [M]  /home/clymber/Studio/kerdevel/module_param/module_param.o\n",
      "  MODPOST /home/clymber/Studio/kerdevel/module_param/Module.symvers\n",
      "  CC [M]  /home/clymber/Studio/kerdevel/module_param/module_param.mod.o\n",
      "  LD [M]  /home/clymber/Studio/kerdevel/module_param/module_param.ko\n",
      "make[1]: Leaving directory '/home/clymber/Studio/@linux-6.1.28'\n"
     ]
    }
   ],
   "source": [
    "! make"
   ]
  },
  {
   "cell_type": "code",
   "execution_count": 14,
   "id": "a899ca34-b734-46a2-9323-15443106ff79",
   "metadata": {
    "tags": []
   },
   "outputs": [
    {
     "name": "stdout",
     "output_type": "stream",
     "text": [
      "\u001b[32m[ 8799.208301] \u001b[0m\u001b[7m\u001b[31mHello, World! name=Clymber, irq=100, debug=1\u001b[0m\n"
     ]
    }
   ],
   "source": [
    "! sudo insmod ./*.ko name='Clymber' irq=100 debug=1 irqtype='edge' && sudo dmesg -c"
   ]
  },
  {
   "cell_type": "code",
   "execution_count": 15,
   "id": "057de046-a5d0-4207-bc0d-1b18f3333e1c",
   "metadata": {
    "tags": []
   },
   "outputs": [
    {
     "name": "stdout",
     "output_type": "stream",
     "text": [
      "-rw-rw---- 1 root root 4.0K May 20 15:58 /sys/module/module_param/parameters/debug\n",
      "-rw-rw---- 1 root root 4.0K May 20 15:58 /sys/module/module_param/parameters/irq\n",
      "-rw-rw---- 1 root root 4.0K May 20 15:58 /sys/module/module_param/parameters/irqtype\n",
      "-rw-rw---- 1 root root 4.0K May 20 15:58 /sys/module/module_param/parameters/name\n"
     ]
    }
   ],
   "source": [
    "! sudo ls -lh /sys/module/module_param/parameters/*"
   ]
  },
  {
   "cell_type": "code",
   "execution_count": 16,
   "id": "d86c8a4f-a244-4183-89b3-31b375eda7df",
   "metadata": {
    "tags": []
   },
   "outputs": [
    {
     "name": "stdout",
     "output_type": "stream",
     "text": [
      "Edge"
     ]
    }
   ],
   "source": [
    "! sudo cat /sys/module/module_param/parameters/irqtype"
   ]
  },
  {
   "cell_type": "code",
   "execution_count": 17,
   "id": "e48d5c26-7911-45ec-b1e7-cf71883c0a5d",
   "metadata": {
    "tags": []
   },
   "outputs": [
    {
     "name": "stdout",
     "output_type": "stream",
     "text": [
      "Polling"
     ]
    }
   ],
   "source": [
    "%%script bash\n",
    "sudo su\n",
    "echo 'polling' >  /sys/module/module_param/parameters/irqtype\n",
    "cat /sys/module/module_param/parameters/irqtype\n",
    "exit"
   ]
  },
  {
   "cell_type": "code",
   "execution_count": 18,
   "id": "282d3628-7a90-4e1b-9d55-96e0761f32b3",
   "metadata": {
    "tags": []
   },
   "outputs": [
    {
     "name": "stderr",
     "output_type": "stream",
     "text": [
      "bash: line 1: echo: write error: Invalid argument\n"
     ]
    },
    {
     "name": "stdout",
     "output_type": "stream",
     "text": [
      "Polling"
     ]
    }
   ],
   "source": [
    "%%script bash\n",
    "sudo su\n",
    "echo 'nonsence' >  /sys/module/module_param/parameters/irqtype\n",
    "cat /sys/module/module_param/parameters/irqtype\n",
    "exit"
   ]
  },
  {
   "cell_type": "code",
   "execution_count": 19,
   "id": "8ea62c74-5edb-45a9-9812-f19a8076cdcd",
   "metadata": {
    "tags": []
   },
   "outputs": [
    {
     "name": "stdout",
     "output_type": "stream",
     "text": [
      "[ 8799.685029] Bye Bye, World!\n",
      "make -C /lib/modules/6.1.28/build M=/home/clymber/Studio/kerdevel/module_param clean\n",
      "make[1]: Entering directory '/home/clymber/Studio/@linux-6.1.28'\n",
      "  CLEAN   /home/clymber/Studio/kerdevel/module_param/Module.symvers\n",
      "make[1]: Leaving directory '/home/clymber/Studio/@linux-6.1.28'\n"
     ]
    }
   ],
   "source": [
    "%%script bash\n",
    "sudo rmmod ./*.ko\n",
    "sudo dmesg -c\n",
    "make clean"
   ]
  }
 ],
 "metadata": {
  "kernelspec": {
   "display_name": "Python 3 (ipykernel)",
   "language": "python",
   "name": "python3"
  },
  "language_info": {
   "codemirror_mode": {
    "name": "ipython",
    "version": 3
   },
   "file_extension": ".py",
   "mimetype": "text/x-python",
   "name": "python",
   "nbconvert_exporter": "python",
   "pygments_lexer": "ipython3",
   "version": "3.11.4"
  }
 },
 "nbformat": 4,
 "nbformat_minor": 5
}
