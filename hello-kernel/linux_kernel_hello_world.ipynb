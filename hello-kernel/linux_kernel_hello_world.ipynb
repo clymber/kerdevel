{
 "cells": [
  {
   "cell_type": "markdown",
   "id": "8b714b96-21a4-4f05-a90e-288600219ad8",
   "metadata": {},
   "source": [
    "# Linux Kernel Hello World\n",
    "\n",
    "This is simple kernel module.  \n",
    "- Print \"Hello, World!\" during module installation.\n",
    "- Print \"Good Bye, World!\" when the module is uninstalled.\n",
    "\n",
    "## 1. The C source file"
   ]
  },
  {
   "cell_type": "markdown",
   "id": "9a4e29a7-45ae-499f-96b9-84303bf0edbe",
   "metadata": {},
   "source": [
    "### 1.1 License\n",
    "\n",
    "The `MODULE_LICENSE()` macro specifies the copyright license for this file. Loading a non-GPL module into memory results in the tainted flag being set in the kernel."
   ]
  },
  {
   "cell_type": "code",
   "execution_count": 1,
   "id": "636e9479-bce5-41d3-8071-5fb253e84bd4",
   "metadata": {
    "tags": []
   },
   "outputs": [
    {
     "name": "stdout",
     "output_type": "stream",
     "text": [
      "Overwriting hello-world.c\n"
     ]
    }
   ],
   "source": [
    "%%writefile hello-world.c\n",
    "#include <linux/init.h>\n",
    "#include <linux/module.h>\n",
    "#include <linux/kernel.h>\n",
    "\n",
    "MODULE_LICENSE(\"GPL\");\n",
    "MODULE_AUTHOR(\"Clymber Loong\");\n",
    "MODULE_DESCRIPTION(\"A Hello, World Module\");"
   ]
  },
  {
   "cell_type": "markdown",
   "id": "ec0df3ad-b968-4822-9cc3-c358d782f368",
   "metadata": {},
   "source": [
    "### 1.2 Define module init and exit functions\n",
    "\n",
    "The init and exit functions must have the form as:\n",
    "```c\n",
    "int modulename_init(void);\n",
    "void modulename_exit(void);\n",
    "```\n",
    "If initialization was successful, the function must return zero. On failure, the function must unwind any initialization and return nonzero.   \n",
    "If this file were compiled into the static kernel image, the exit function would not be included, and it would never be invoked because if it were not a module, the code could never be removed from memory."
   ]
  },
  {
   "cell_type": "code",
   "execution_count": 2,
   "id": "d247cca4-0d6c-4cbf-ae31-4b651cf5cebc",
   "metadata": {
    "tags": []
   },
   "outputs": [
    {
     "name": "stdout",
     "output_type": "stream",
     "text": [
      "Appending to hello-world.c\n"
     ]
    }
   ],
   "source": [
    "%%writefile -a hello-world.c\n",
    "\n",
    "static int hello_init(void)\n",
    "{\n",
    "    printk(KERN_ALERT \"Hello, World!\\n\");\n",
    "    return 0;\n",
    "}\n",
    "\n",
    "static void hello_exit(void)\n",
    "{\n",
    "    printk(KERN_ALERT \"Bye Bye, World!\\n\");\n",
    "}"
   ]
  },
  {
   "cell_type": "markdown",
   "id": "2f1ea1b6-5ef1-424b-b9d7-2edd42dd7bb6",
   "metadata": {},
   "source": [
    "### 1.3 Register module's entry point and exit point"
   ]
  },
  {
   "cell_type": "code",
   "execution_count": 3,
   "id": "15f827a1-606d-456a-8b03-03195deacbb1",
   "metadata": {
    "tags": []
   },
   "outputs": [
    {
     "name": "stdout",
     "output_type": "stream",
     "text": [
      "Appending to hello-world.c\n"
     ]
    }
   ],
   "source": [
    "%%writefile -a hello-world.c\n",
    "\n",
    "module_init(hello_init);\n",
    "module_exit(hello_exit);"
   ]
  },
  {
   "cell_type": "markdown",
   "id": "bb3cec33-e051-4fb9-b2dd-ad46b4fad21d",
   "metadata": {},
   "source": [
    "The `hello_init()` function is registered as this module’s entry point via `module_init()`.The kernel invokes `hello_init()`\n",
    "when the module is loaded.  \n",
    "The `module_exit()` function registers a module’s exit point. In this example, we register the function `hello_exit()`."
   ]
  },
  {
   "cell_type": "markdown",
   "id": "c6648edb-fc67-4972-9163-7cb779fdc984",
   "metadata": {},
   "source": [
    "## 2. The Makefile"
   ]
  },
  {
   "cell_type": "code",
   "execution_count": 4,
   "id": "23cf7da6-82a8-48f6-92d1-ac66cebfdf65",
   "metadata": {
    "tags": []
   },
   "outputs": [
    {
     "name": "stdout",
     "output_type": "stream",
     "text": [
      "Overwriting Makefile\n"
     ]
    }
   ],
   "source": [
    "%%writefile Makefile\n",
    "obj-m = hello-world.o\n",
    "\n",
    "KERN_BUILD = /lib/modules/$(shell uname -r)/build\n",
    "MODULE_DIR = $(PWD)\n",
    "\n",
    "all:\n",
    "\tmake -C $(KERN_BUILD) M=$(MODULE_DIR) modules\n",
    "\n",
    "clean:\n",
    "\tmake -C $(KERN_BUILD) M=$(MODULE_DIR) clean\n"
   ]
  },
  {
   "cell_type": "markdown",
   "id": "58d2e9a0-6a5d-41a3-9b8d-ac168479f73c",
   "metadata": {},
   "source": [
    "The `KERN_BUILD` defines the path to the linux kernel source tree within which we want to build the module, and it should be built before hand.  \n",
    "The `MODULE_DIR` defines the path to the module that we want to build.  \n",
    "The `make -C $(KERN_BUILD)` shows that `make` command will change its CWD to `$(KERN_BUILD)` before build. It means that the module will actually be built within the linux kernel source tree."
   ]
  },
  {
   "cell_type": "markdown",
   "id": "072d89f5-1934-4fde-b71a-6b467166492e",
   "metadata": {
    "tags": []
   },
   "source": [
    "## 3. Build the module"
   ]
  },
  {
   "cell_type": "code",
   "execution_count": 5,
   "id": "1e5a539b-c923-4e1a-9d24-e40b32e27c4c",
   "metadata": {
    "tags": []
   },
   "outputs": [
    {
     "name": "stdout",
     "output_type": "stream",
     "text": [
      "make -C /lib/modules/6.1.28/build M=/home/clymber/Studio/hello-kernel modules\n",
      "make[1]: Entering directory '/home/clymber/Studio/@linux-6.1.28'\n",
      "  CC [M]  /home/clymber/Studio/hello-kernel/hello-world.o\n",
      "  MODPOST /home/clymber/Studio/hello-kernel/Module.symvers\n",
      "  LD [M]  /home/clymber/Studio/hello-kernel/hello-world.ko\n",
      "make[1]: Leaving directory '/home/clymber/Studio/@linux-6.1.28'\n"
     ]
    }
   ],
   "source": [
    "! make"
   ]
  },
  {
   "cell_type": "code",
   "execution_count": 6,
   "id": "60e14a80-98ad-4ac5-96fc-70785ad467aa",
   "metadata": {
    "tags": []
   },
   "outputs": [
    {
     "name": "stdout",
     "output_type": "stream",
     "text": [
      "-rw-rw-r-- 1 clymber clymber 105K May 13 00:34 hello-world.ko\n"
     ]
    }
   ],
   "source": [
    "! ls -lh *.ko"
   ]
  },
  {
   "cell_type": "markdown",
   "id": "23073c11-f10c-453c-9cfa-6698e694ed29",
   "metadata": {},
   "source": [
    "## 4. Load the module into kernel\n",
    "\n",
    "The simplest way to load a module is via insmod. The insmod program does not perform any dependency resolution or advanced error checking."
   ]
  },
  {
   "cell_type": "code",
   "execution_count": 7,
   "id": "f62dc65f-4610-4265-8229-07d1aea63d22",
   "metadata": {
    "tags": []
   },
   "outputs": [],
   "source": [
    "! sudo insmod hello-world.ko"
   ]
  },
  {
   "cell_type": "code",
   "execution_count": 8,
   "id": "190e85e1-f30c-4e30-a477-b4e6cdf05c4d",
   "metadata": {
    "tags": []
   },
   "outputs": [
    {
     "name": "stdout",
     "output_type": "stream",
     "text": [
      "[ 5631.922223] Hello, World!\n"
     ]
    }
   ],
   "source": [
    "! sudo dmesg | grep -F 'Hello, World!'"
   ]
  },
  {
   "cell_type": "markdown",
   "id": "2d60e834-1122-4b2b-80e5-2ad9c18a050f",
   "metadata": {},
   "source": [
    "## 5. Unload the module from kernel"
   ]
  },
  {
   "cell_type": "code",
   "execution_count": 9,
   "id": "b7a61f45-71b3-42df-99ae-cb88a7a60c36",
   "metadata": {
    "tags": []
   },
   "outputs": [],
   "source": [
    "! sudo rmmod hello-world.ko"
   ]
  },
  {
   "cell_type": "code",
   "execution_count": 10,
   "id": "257d8e84-8b88-4699-8a8f-30fd6b84a4fb",
   "metadata": {
    "tags": []
   },
   "outputs": [
    {
     "name": "stdout",
     "output_type": "stream",
     "text": [
      "[ 5632.185099] Bye Bye, World!\n"
     ]
    }
   ],
   "source": [
    "! sudo dmesg | grep -F 'Bye Bye, World!'"
   ]
  },
  {
   "cell_type": "markdown",
   "id": "738776fe-850a-49d6-8c85-82865d937a02",
   "metadata": {},
   "source": [
    "## 6. Clean project"
   ]
  },
  {
   "cell_type": "code",
   "execution_count": 11,
   "id": "1e2ce06a-6c97-44a3-a366-a184467be966",
   "metadata": {
    "tags": []
   },
   "outputs": [
    {
     "name": "stdout",
     "output_type": "stream",
     "text": [
      "make -C /lib/modules/6.1.28/build M=/home/clymber/Studio/hello-kernel clean\n",
      "make[1]: Entering directory '/home/clymber/Studio/@linux-6.1.28'\n",
      "  CLEAN   /home/clymber/Studio/hello-kernel/Module.symvers\n",
      "make[1]: Leaving directory '/home/clymber/Studio/@linux-6.1.28'\n"
     ]
    }
   ],
   "source": [
    "! make clean"
   ]
  }
 ],
 "metadata": {
  "kernelspec": {
   "display_name": "Python 3 (ipykernel)",
   "language": "python",
   "name": "python3"
  },
  "language_info": {
   "codemirror_mode": {
    "name": "ipython",
    "version": 3
   },
   "file_extension": ".py",
   "mimetype": "text/x-python",
   "name": "python",
   "nbconvert_exporter": "python",
   "pygments_lexer": "ipython3",
   "version": "3.11.4"
  }
 },
 "nbformat": 4,
 "nbformat_minor": 5
}
