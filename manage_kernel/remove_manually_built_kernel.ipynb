{
 "cells": [
  {
   "cell_type": "markdown",
   "id": "218349fe-2981-4133-b01d-d23a1e9e44f1",
   "metadata": {},
   "source": [
    "# How to remove old linux kernel and related modules\n",
    "\n",
    "Linux Kernel and related files are stored in the following locations on your Linux distro:\n",
    "\n",
    "- `/boot` – Stores actual kernel and related file such system man and initrd images.\n",
    "- `/etc` or `/boot/grub` – Stores grub.conf file (most distro use /boot/grub these days).\n",
    "- `/lib/modules/KERNEL-VERSION/*` (`/lib/modules/$(uname -r)`)- Linux device drivers (modules)"
   ]
  },
  {
   "cell_type": "markdown",
   "id": "3332e275-2026-44b2-9593-0e4cab21d221",
   "metadata": {},
   "source": [
    "## 1. How to remove manually built and installed kernel\n",
    "\n",
    "We can't use package manager to remove the kernels and modules that were manually built and installed. So, we need to remove the file from `/boot/*<kernel version>`, `/lib/modules/<kernel version>`, and update grub configuration.\n",
    "\n",
    "On the following steps, we are going to remove kernel '6.1.28' that's build by myself before."
   ]
  },
  {
   "cell_type": "markdown",
   "id": "87a3365a-0e97-447b-9825-f3a97d136e03",
   "metadata": {},
   "source": [
    "### Sep 1, remove kernel modules\n",
    "\n",
    "In ubuntu 22.04, the `.ko` modules are installed in /lib/modules/<your_kernel>. For version 6.2.0, it would be `/lib/modules/6.2.0`."
   ]
  },
  {
   "cell_type": "code",
   "execution_count": 1,
   "id": "4b1ccd80-6089-47ba-b834-bf4aa55c7568",
   "metadata": {
    "tags": []
   },
   "outputs": [
    {
     "name": "stdout",
     "output_type": "stream",
     "text": [
      "\u001b[0m\u001b[01;34m5.19.0-41-generic\u001b[0m\n",
      "\u001b[01;34m6.1.28\u001b[0m\n",
      "\u001b[01;34m6.1.29\u001b[0m\n"
     ]
    }
   ],
   "source": [
    "ls -1A /lib/modules"
   ]
  },
  {
   "cell_type": "code",
   "execution_count": 2,
   "id": "37c89993-2e0c-4d6f-9d2c-66d6ee1d4469",
   "metadata": {
    "tags": []
   },
   "outputs": [],
   "source": [
    "sudo rm -rf /lib/modules/6.1.28"
   ]
  },
  {
   "cell_type": "markdown",
   "id": "1b1d82ef-1ea8-4115-9a5c-9b97379674dc",
   "metadata": {},
   "source": [
    "### Step 2, remove the kernel image\n",
    "\n",
    "In ubuntu 22.04, the images reside within `/boot` directory."
   ]
  },
  {
   "cell_type": "code",
   "execution_count": 3,
   "id": "916c0ae5-bf17-4622-b85d-6953df431dc0",
   "metadata": {
    "tags": []
   },
   "outputs": [
    {
     "name": "stdout",
     "output_type": "stream",
     "text": [
      "total 699900\n",
      "-rw-r--r-- 1 root root    270012 Apr 18 23:38 config-5.19.0-41-generic\n",
      "-rw-r--r-- 1 root root    273368 May 12 13:34 config-6.1.28\n",
      "-rw-r--r-- 1 root root    273359 May 20 16:14 config-6.1.29\n",
      "drwx------ 3 root root      4096 Jan  1  1970 \u001b[0m\u001b[01;34mefi\u001b[0m\n",
      "drwxr-xr-x 1 root root       126 May 20 16:15 \u001b[01;34mgrub\u001b[0m\n",
      "lrwxrwxrwx 1 root root        17 May 20 16:15 \u001b[01;36minitrd.img\u001b[0m -> initrd.img-6.1.29\n",
      "-rw-r--r-- 1 root root  73636557 Apr 29 14:56 initrd.img-5.19.0-41-generic\n",
      "-rw-r--r-- 1 root root  61540417 May 12 13:34 initrd.img-6.1.28\n",
      "-rw-r--r-- 1 root root 525850822 May 20 16:15 initrd.img-6.1.29\n",
      "lrwxrwxrwx 1 root root        17 May 20 16:15 \u001b[01;36minitrd.img.old\u001b[0m -> initrd.img-6.1.28\n",
      "-rw-r--r-- 1 root root    182800 Feb  7  2022 memtest86+.bin\n",
      "-rw-r--r-- 1 root root    184476 Feb  7  2022 memtest86+.elf\n",
      "-rw-r--r-- 1 root root    184980 Feb  7  2022 memtest86+_multiboot.bin\n",
      "-rw------- 1 root root   6434470 Apr 18 23:38 System.map-5.19.0-41-generic\n",
      "-rw-r--r-- 1 root root   5116829 May 12 13:34 System.map-6.1.28\n",
      "-rw-r--r-- 1 root root   5113701 May 20 16:14 System.map-6.1.29\n",
      "lrwxrwxrwx 1 root root        14 May 20 16:14 \u001b[01;36mvmlinuz\u001b[0m -> vmlinuz-6.1.29\n",
      "-rw------- 1 root root  12196552 Apr 18 23:26 vmlinuz-5.19.0-41-generic\n",
      "-rw-r--r-- 1 root root  10682560 May 12 13:34 vmlinuz-6.1.28\n",
      "-rw-r--r-- 1 root root  14707872 May 20 16:14 vmlinuz-6.1.29\n",
      "lrwxrwxrwx 1 root root        14 May 12 13:34 \u001b[01;36mvmlinuz.old\u001b[0m -> vmlinuz-6.1.28\n"
     ]
    }
   ],
   "source": [
    "ls -lA /boot/"
   ]
  },
  {
   "cell_type": "code",
   "execution_count": 4,
   "id": "7a78dc2e-3b3d-4649-80af-e1567232a299",
   "metadata": {
    "tags": []
   },
   "outputs": [],
   "source": [
    "sudo rm -rf /boot/*6.1.28*"
   ]
  },
  {
   "cell_type": "code",
   "execution_count": null,
   "id": "52549271-4a66-4eaf-b020-8ac139f44122",
   "metadata": {
    "tags": []
   },
   "outputs": [],
   "source": [
    "sudo rm /boot/initrd.img.old\n",
    "sudo ln -s /boot/initrd.img-5.19.0-41-generic /boot/initrd.img.old\n",
    "sudo rm /boot/vmlinuz.old\n",
    "sudo ln -s /boot/vmlinuz-5.19.0-41-generic /boot/vmlinuz.old"
   ]
  },
  {
   "cell_type": "markdown",
   "id": "950e2bd7-ca00-4a34-9aa6-04b16c4e3932",
   "metadata": {},
   "source": [
    "### Step 3, update grub configuration."
   ]
  },
  {
   "cell_type": "code",
   "execution_count": 12,
   "id": "43f562c2-8211-41f9-a081-0d92b874b6b3",
   "metadata": {
    "tags": []
   },
   "outputs": [
    {
     "name": "stdout",
     "output_type": "stream",
     "text": [
      "Sourcing file `/etc/default/grub'\n",
      "Sourcing file `/etc/default/grub.d/init-select.cfg'\n",
      "Generating grub configuration file ...\n",
      "Found linux image: /boot/vmlinuz-6.1.29\n",
      "Found initrd image: /boot/initrd.img-6.1.29\n",
      "Found linux image: /boot/vmlinuz-5.19.0-41-generic\n",
      "Found initrd image: /boot/initrd.img-5.19.0-41-generic\n",
      "Memtest86+ needs a 16-bit boot, that is not available on EFI, exiting\n",
      "Warning: os-prober will not be executed to detect other bootable partitions.\n",
      "Systems on them will not be added to the GRUB boot configuration.\n",
      "Check GRUB_DISABLE_OS_PROBER documentation entry.\n",
      "Adding boot menu entry for UEFI Firmware Settings ...\n",
      "done\n"
     ]
    }
   ],
   "source": [
    "sudo grub-mkconfig -o /boot/grub/grub.cfg"
   ]
  },
  {
   "cell_type": "code",
   "execution_count": 13,
   "id": "3cafec26-2190-4f0d-b1a9-48f712739d85",
   "metadata": {
    "tags": []
   },
   "outputs": [
    {
     "name": "stdout",
     "output_type": "stream",
     "text": [
      "total 624096\n",
      "-rw-r--r-- 1 root root    270012 Apr 18 23:38 config-5.19.0-41-generic\n",
      "-rw-r--r-- 1 root root    273359 May 20 16:14 config-6.1.29\n",
      "drwx------ 3 root root      4096 Jan  1  1970 \u001b[0m\u001b[01;34mefi\u001b[0m\n",
      "drwxr-xr-x 1 root root       126 May 20 18:51 \u001b[01;34mgrub\u001b[0m\n",
      "lrwxrwxrwx 1 root root        17 May 20 16:15 \u001b[01;36minitrd.img\u001b[0m -> initrd.img-6.1.29\n",
      "-rw-r--r-- 1 root root  73636557 Apr 29 14:56 initrd.img-5.19.0-41-generic\n",
      "-rw-r--r-- 1 root root 525850822 May 20 16:15 initrd.img-6.1.29\n",
      "lrwxrwxrwx 1 root root        34 May 20 18:50 \u001b[01;36minitrd.img.old\u001b[0m -> /boot/initrd.img-5.19.0-41-generic\n",
      "-rw-r--r-- 1 root root    182800 Feb  7  2022 memtest86+.bin\n",
      "-rw-r--r-- 1 root root    184476 Feb  7  2022 memtest86+.elf\n",
      "-rw-r--r-- 1 root root    184980 Feb  7  2022 memtest86+_multiboot.bin\n",
      "-rw------- 1 root root   6434470 Apr 18 23:38 System.map-5.19.0-41-generic\n",
      "-rw-r--r-- 1 root root   5113701 May 20 16:14 System.map-6.1.29\n",
      "lrwxrwxrwx 1 root root        14 May 20 16:14 \u001b[01;36mvmlinuz\u001b[0m -> vmlinuz-6.1.29\n",
      "-rw------- 1 root root  12196552 Apr 18 23:26 vmlinuz-5.19.0-41-generic\n",
      "-rw-r--r-- 1 root root  14707872 May 20 16:14 vmlinuz-6.1.29\n",
      "lrwxrwxrwx 1 root root        31 May 20 18:50 \u001b[01;36mvmlinuz.old\u001b[0m -> /boot/vmlinuz-5.19.0-41-generic\n"
     ]
    }
   ],
   "source": [
    "ls -l /boot/"
   ]
  }
 ],
 "metadata": {
  "kernelspec": {
   "display_name": "Bash",
   "language": "bash",
   "name": "bash"
  },
  "language_info": {
   "codemirror_mode": "shell",
   "file_extension": ".sh",
   "mimetype": "text/x-sh",
   "name": "bash"
  }
 },
 "nbformat": 4,
 "nbformat_minor": 5
}
