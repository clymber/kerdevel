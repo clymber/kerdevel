{
 "cells": [
  {
   "cell_type": "markdown",
   "id": "325c6407-1f08-49cf-af83-02562dfd8872",
   "metadata": {},
   "source": [
    "# Exporting & Invoking Linux Kernel Symbols\n",
    "\n",
    "When modules are loaded, they are dynamically linked into the kernel. As with user-space, dynamically linked binaries can call only into external functions explicitly exported for use. In the kernel, this is handled via special directives called `EXPORT_SYMBOL()` and `EXPORT_SYMBOL_GPL()`.  \n",
    "Exported functions are available for use by modules. Functions not exported cannot be invoked from modules.The linking and invoking rules are much more stringent for modules than code in the core kernel image. Core code can call any nonstatic interface in the kernel because all core source files are linked into a single base image. Exported symbols, of course, must be nonstatic, too.\n",
    "\n",
    "We're going to write a demo of `Hello World` level to learn:\n",
    "- How to make a function available for others to use.\n",
    "- How to use functions given by other modules.\n",
    "\n",
    "## 1. Task\n",
    "- Implement a module `hello_api.ko` to export symbols as APIs to be used by other modules.\n",
    "- Implement an other module `hello_feature.ko` to invoke the APIs, the symbols exported from the previous module. "
   ]
  },
  {
   "cell_type": "markdown",
   "id": "4e2bb83a-5115-4420-b8f1-553d603e9913",
   "metadata": {},
   "source": [
    "## 2. Import a basic `hello world` demo\n",
    "\n",
    "We are going to reuse the [`hello world`](../hello-kernel/linux_kernel_hello_world.ipynb) demo to build to new modules aforememtioned.\n",
    "\n",
    "### 2.1 Makefile\n",
    "This `Makefile` will build to the aforementioned modules."
   ]
  },
  {
   "cell_type": "code",
   "execution_count": 1,
   "id": "0c87c0ac-f6fd-454e-9ade-3a8e89ac5ae9",
   "metadata": {
    "tags": []
   },
   "outputs": [
    {
     "name": "stdout",
     "output_type": "stream",
     "text": [
      "Overwriting Makefile\n"
     ]
    }
   ],
   "source": [
    "%%writefile Makefile\n",
    "obj-m              = hello_api.o\n",
    "hello_api-objs     = hello_api_inexit.o\n",
    "\n",
    "KERN_BUILD := /lib/modules/$(shell uname -r)/build\n",
    "MODULE_DIR := $(abspath $(dir $(lastword $(MAKEFILE_LIST))))\n",
    "\n",
    "modules modules_install clean:\n",
    "\tmake -C $(KERN_BUILD) M=$(MODULE_DIR) $@"
   ]
  },
  {
   "cell_type": "markdown",
   "id": "9a1a0a89-a67f-416b-a508-bb0eeebf92d2",
   "metadata": {},
   "source": [
    "### 2.2 The init and exit points for the module"
   ]
  },
  {
   "cell_type": "code",
   "execution_count": 2,
   "id": "c0f8bc6a-614b-4e58-9694-07aa59bb8beb",
   "metadata": {
    "tags": []
   },
   "outputs": [
    {
     "name": "stdout",
     "output_type": "stream",
     "text": [
      "Overwriting hello_api_inexit.c\n"
     ]
    }
   ],
   "source": [
    "%%writefile hello_api_inexit.c\n",
    "/*\n",
    " * @desc: implement the init and exit point for hello_api.ko module.\n",
    "*/\n",
    "#include <linux/init.h>\n",
    "#include <linux/module.h>\n",
    "#include <linux/kernel.h>\n",
    "\n",
    "MODULE_LICENSE(\"GPL\");\n",
    "MODULE_AUTHOR(\"Clymber Loong\");\n",
    "MODULE_DESCRIPTION(\"A hello world to export kernel symbols.\");\n",
    "\n",
    "static int hello_init(void)\n",
    "{\n",
    "    printk(KERN_INFO \"[hello_api] Hello, World!\\n\");\n",
    "    return 0;\n",
    "}\n",
    "\n",
    "static void hello_exit(void)\n",
    "{\n",
    "    printk(KERN_INFO \"[hello_api] Bye bye, World!\\n\");\n",
    "}\n",
    "\n",
    "module_init(hello_init);\n",
    "module_exit(hello_exit);"
   ]
  },
  {
   "cell_type": "code",
   "execution_count": 3,
   "id": "99260f64-3e96-4128-9487-9ca077d2756d",
   "metadata": {
    "tags": []
   },
   "outputs": [
    {
     "name": "stdout",
     "output_type": "stream",
     "text": [
      "make -C /lib/modules/6.1.29/build M=/home/clymber/Studio/kerdevel/export_symbol modules\n",
      "make[1]: Entering directory '/home/clymber/Studio/linux-6.1.29'\n",
      "  CC [M]  /home/clymber/Studio/kerdevel/export_symbol/hello_api_inexit.o\n",
      "  LD [M]  /home/clymber/Studio/kerdevel/export_symbol/hello_api.o\n",
      "  MODPOST /home/clymber/Studio/kerdevel/export_symbol/Module.symvers\n",
      "  CC [M]  /home/clymber/Studio/kerdevel/export_symbol/hello_api.mod.o\n",
      "  LD [M]  /home/clymber/Studio/kerdevel/export_symbol/hello_api.ko\n",
      "make[1]: Leaving directory '/home/clymber/Studio/linux-6.1.29'\n"
     ]
    }
   ],
   "source": [
    "! make"
   ]
  },
  {
   "cell_type": "markdown",
   "id": "8b925af0-2f43-40a7-8084-dd4f9793cc7a",
   "metadata": {},
   "source": [
    "## 3. Implement an api and export it\n",
    "\n",
    "At this point, we got a module that are almost identical with the `Hello World` module. Let's add an api to `hello_api` module."
   ]
  },
  {
   "cell_type": "code",
   "execution_count": 4,
   "id": "206f5dff-5db4-43bc-9270-7c143d27db2a",
   "metadata": {
    "tags": []
   },
   "outputs": [
    {
     "name": "stdout",
     "output_type": "stream",
     "text": [
      "Appending to Makefile\n"
     ]
    }
   ],
   "source": [
    "%%writefile -a Makefile\n",
    "\n",
    "hello_api-objs += hello_api_test.o"
   ]
  },
  {
   "cell_type": "code",
   "execution_count": 5,
   "id": "3cc50c13-76ee-4dc1-b14c-31917ccb20de",
   "metadata": {
    "tags": []
   },
   "outputs": [
    {
     "name": "stdout",
     "output_type": "stream",
     "text": [
      "Overwriting hello_api_test.c\n"
     ]
    }
   ],
   "source": [
    "%%writefile hello_api_test.c\n",
    "/*\n",
    " * @desc: implement test APIs to be exported to the kernel. \n",
    "*/\n",
    "#include <linux/kernel.h>\n",
    "\n",
    "void api_test(void)\n",
    "{\n",
    "    printk(KERN_INFO \"[hello_api] this is a test message.\");\n",
    "}\n",
    "EXPORT_SYMBOL_GPL(api_test);"
   ]
  },
  {
   "cell_type": "code",
   "execution_count": 6,
   "id": "65a50800-f3c1-48b1-8f30-8a3687e0ae75",
   "metadata": {
    "tags": []
   },
   "outputs": [
    {
     "name": "stdout",
     "output_type": "stream",
     "text": [
      "make -C /lib/modules/6.1.29/build M=/home/clymber/Studio/kerdevel/export_symbol modules\n",
      "make[1]: Entering directory '/home/clymber/Studio/linux-6.1.29'\n",
      "  CC [M]  /home/clymber/Studio/kerdevel/export_symbol/hello_api_test.o\n",
      "  LD [M]  /home/clymber/Studio/kerdevel/export_symbol/hello_api.o\n",
      "  MODPOST /home/clymber/Studio/kerdevel/export_symbol/Module.symvers\n",
      "  CC [M]  /home/clymber/Studio/kerdevel/export_symbol/hello_api.mod.o\n",
      "  LD [M]  /home/clymber/Studio/kerdevel/export_symbol/hello_api.ko\n",
      "make[1]: Leaving directory '/home/clymber/Studio/linux-6.1.29'\n"
     ]
    }
   ],
   "source": [
    "! make"
   ]
  },
  {
   "cell_type": "markdown",
   "id": "6f6a54ec-7b77-4bd9-ad43-a2d1503076b1",
   "metadata": {},
   "source": [
    "## 4. Use the api exported by module 'hello_api' from module 'hello_feature'"
   ]
  },
  {
   "cell_type": "code",
   "execution_count": 7,
   "id": "88058041-c231-47aa-a08f-201b81176cd8",
   "metadata": {
    "tags": []
   },
   "outputs": [
    {
     "name": "stdout",
     "output_type": "stream",
     "text": [
      "Overwriting hello_feature.c\n"
     ]
    }
   ],
   "source": [
    "%%writefile hello_feature.c\n",
    "/*\n",
    " * @desc: verify the symbol exported by module 'hello_api'\n",
    "*/\n",
    "#include <linux/init.h>\n",
    "#include <linux/module.h>\n",
    "#include <linux/kernel.h>\n",
    "\n",
    "MODULE_LICENSE(\"GPL\");\n",
    "MODULE_AUTHOR(\"Clymber Loong\");\n",
    "MODULE_DESCRIPTION(\"A demo to invoke symbols that other modules exported.\");\n",
    "\n",
    "extern void api_test(void); // from hello_api.ko\n",
    "\n",
    "static int hello_init(void)\n",
    "{\n",
    "    printk(KERN_INFO \"[hello_feature] Hello, World!\\n\");\n",
    "    api_test();\n",
    "    return 0;\n",
    "}\n",
    "\n",
    "static void hello_exit(void)\n",
    "{\n",
    "    printk(KERN_INFO \"[hello_feature] Bye Bye, World!\\n\");\n",
    "}\n",
    "\n",
    "module_init(hello_init);\n",
    "module_exit(hello_exit);"
   ]
  },
  {
   "cell_type": "code",
   "execution_count": 8,
   "id": "20a4563c-d3be-46da-b75b-5fa41f48035d",
   "metadata": {
    "tags": []
   },
   "outputs": [
    {
     "name": "stdout",
     "output_type": "stream",
     "text": [
      "Appending to Makefile\n"
     ]
    }
   ],
   "source": [
    "%%writefile -a Makefile\n",
    "\n",
    "obj-m += hello_feature.o"
   ]
  },
  {
   "cell_type": "code",
   "execution_count": 9,
   "id": "9f38306a-bb2f-48a5-8245-22a35e325bb7",
   "metadata": {
    "tags": []
   },
   "outputs": [
    {
     "name": "stdout",
     "output_type": "stream",
     "text": [
      "make -C /lib/modules/6.1.29/build M=/home/clymber/Studio/kerdevel/export_symbol modules\n",
      "make[1]: Entering directory '/home/clymber/Studio/linux-6.1.29'\n",
      "  CC [M]  /home/clymber/Studio/kerdevel/export_symbol/hello_feature.o\n",
      "  MODPOST /home/clymber/Studio/kerdevel/export_symbol/Module.symvers\n",
      "  LD [M]  /home/clymber/Studio/kerdevel/export_symbol/hello_feature.ko\n",
      "make[1]: Leaving directory '/home/clymber/Studio/linux-6.1.29'\n"
     ]
    }
   ],
   "source": [
    "! make"
   ]
  },
  {
   "cell_type": "code",
   "execution_count": 10,
   "id": "87b20326-6fc7-44c5-93e4-7be26da95431",
   "metadata": {
    "tags": []
   },
   "outputs": [
    {
     "name": "stdout",
     "output_type": "stream",
     "text": [
      "[ 4425.815930] [hello_api] Hello, World!\n",
      "[ 4425.822249] [hello_feature] Hello, World!\n",
      "[ 4425.822251] [hello_api] this is a test message.\n",
      "[ 4425.828279] [hello_feature] Bye Bye, World!\n",
      "[ 4425.861727] [hello_api] Bye bye, World!\n"
     ]
    }
   ],
   "source": [
    "%%script bash\n",
    "sudo dmesg -C\n",
    "sudo insmod hello_api.ko && sudo insmod hello_feature.ko\n",
    "sudo rmmod hello_feature && sudo rmmod hello_api\n",
    "sudo dmesg -c"
   ]
  },
  {
   "cell_type": "code",
   "execution_count": 11,
   "id": "f3d9e0cc-f823-4074-9b23-f6e83b7fcc66",
   "metadata": {
    "tags": []
   },
   "outputs": [
    {
     "name": "stdout",
     "output_type": "stream",
     "text": [
      "make -C /lib/modules/6.1.29/build M=/home/clymber/Studio/kerdevel/export_symbol clean\n",
      "make[1]: Entering directory '/home/clymber/Studio/linux-6.1.29'\n",
      "  CLEAN   /home/clymber/Studio/kerdevel/export_symbol/Module.symvers\n",
      "make[1]: Leaving directory '/home/clymber/Studio/linux-6.1.29'\n"
     ]
    }
   ],
   "source": [
    "! make clean"
   ]
  }
 ],
 "metadata": {
  "kernelspec": {
   "display_name": "Python 3 (ipykernel)",
   "language": "python",
   "name": "python3"
  },
  "language_info": {
   "codemirror_mode": {
    "name": "ipython",
    "version": 3
   },
   "file_extension": ".py",
   "mimetype": "text/x-python",
   "name": "python",
   "nbconvert_exporter": "python",
   "pygments_lexer": "ipython3",
   "version": "3.11.4"
  }
 },
 "nbformat": 4,
 "nbformat_minor": 5
}
